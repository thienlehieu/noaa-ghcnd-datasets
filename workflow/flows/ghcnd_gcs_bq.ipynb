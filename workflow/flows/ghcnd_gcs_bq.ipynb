{
 "cells": [
  {
   "cell_type": "code",
   "execution_count": 32,
   "id": "61b19179-be73-4bb7-894b-d1e2ad81d28f",
   "metadata": {},
   "outputs": [],
   "source": [
    "from pathlib import Path\n",
    "import pandas as pd\n",
    "from datetime import timedelta\n",
    "import argparse\n",
    "import pyspark\n",
    "from pyspark.sql import SparkSession\n",
    "from pyspark.sql import functions as F\n",
    "from pyspark.sql import types\n",
    "from pyspark.sql import SQLContext\n",
    "from pyspark.conf import SparkConf\n",
    "from pyspark.context import SparkContext"
   ]
  },
  {
   "cell_type": "code",
   "execution_count": 2,
   "id": "5b056ce5-fbe6-4dbf-bc64-eb6ac1f04a05",
   "metadata": {},
   "outputs": [
    {
     "name": "stderr",
     "output_type": "stream",
     "text": [
      "23/08/27 14:42:07 WARN Utils: Your hostname, ThienLes-MacBook-Pro.local resolves to a loopback address: 127.0.0.1; using 192.168.1.4 instead (on interface en0)\n",
      "23/08/27 14:42:07 WARN Utils: Set SPARK_LOCAL_IP if you need to bind to another address\n",
      "23/08/27 14:42:08 WARN NativeCodeLoader: Unable to load native-hadoop library for your platform... using builtin-java classes where applicable\n",
      "Setting default log level to \"WARN\".\n",
      "To adjust logging level use sc.setLogLevel(newLevel). For SparkR, use setLogLevel(newLevel).\n"
     ]
    }
   ],
   "source": [
    "credentials_location = '/Users/admin/Downloads/data-pipeline-396809-583622d42f37.json'\n",
    "\n",
    "conf = SparkConf() \\\n",
    "    .setMaster('local[*]') \\\n",
    "    .setAppName('Monkey D.Luffy') \\\n",
    "    .set(\"spark.jars\", \"/Users/admin/Public/project/noaa-climate-datasets/lib/gcs-connector-hadoop3-latest.jar\") \\\n",
    "    .set(\"spark.hadoop.google.cloud.auth.service.account.enable\", \"true\") \\\n",
    "    .set(\"spark.hadoop.google.cloud.auth.service.account.json.keyfile\", credentials_location)\n",
    "\n",
    "sc = SparkContext(conf=conf)\n",
    "\n",
    "hadoop_conf = sc._jsc.hadoopConfiguration()\n",
    "\n",
    "hadoop_conf.set(\"fs.AbstractFileSystem.gs.impl\",  \"com.google.cloud.hadoop.fs.gcs.GoogleHadoopFS\")\n",
    "hadoop_conf.set(\"fs.gs.impl\", \"com.google.cloud.hadoop.fs.gcs.GoogleHadoopFileSystem\")\n",
    "hadoop_conf.set(\"fs.gs.auth.service.account.json.keyfile\", credentials_location)\n",
    "hadoop_conf.set(\"fs.gs.auth.service.account.enable\", \"true\")"
   ]
  },
  {
   "cell_type": "code",
   "execution_count": 3,
   "id": "16f4b7f6-946c-4648-9065-e4fc7a33ac3e",
   "metadata": {},
   "outputs": [],
   "source": [
    "spark = SparkSession.builder \\\n",
    "    .appName('Monkey D.Luffy') \\\n",
    "    .getOrCreate()"
   ]
  },
  {
   "cell_type": "code",
   "execution_count": 73,
   "id": "b7cfb2ac-8e26-4697-a71c-28cebbcfcc77",
   "metadata": {},
   "outputs": [],
   "source": [
    "df_vm = spark.read.parquet(\"gs://noaa_ghcn_data_lake_data-pipeline-396809/data/pq/climate/2022/countryCode=VM/*\")\\\n",
    "    .withColumn('date', F.to_date('DateStr', \"yyyyMMdd\"))"
   ]
  },
  {
   "cell_type": "code",
   "execution_count": 57,
   "id": "f9e8d5cf-22c7-4a35-ab92-6cc3d2aaa335",
   "metadata": {},
   "outputs": [
    {
     "name": "stderr",
     "output_type": "stream",
     "text": [
      "                                                                                \r"
     ]
    }
   ],
   "source": [
    "df_station = spark.read.parquet(\"gs://noaa_ghcn_data_lake_data-pipeline-396809/data/pq/station/stations.parquet\")"
   ]
  },
  {
   "cell_type": "code",
   "execution_count": 52,
   "id": "d2906ff1-1d2b-4f70-a924-f137060b6e13",
   "metadata": {},
   "outputs": [
    {
     "data": {
      "text/plain": [
       "DataFrame[key: string, value: string]"
      ]
     },
     "execution_count": 52,
     "metadata": {},
     "output_type": "execute_result"
    }
   ],
   "source": [
    "sqlContext = SQLContext(spark.sparkContext)\n",
    "sqlContext.sql(\"set spark.sql.caseSensitive=true\")"
   ]
  },
  {
   "cell_type": "code",
   "execution_count": 58,
   "id": "1a826c28-b6ca-4089-ad8e-0e94284e3cd5",
   "metadata": {},
   "outputs": [],
   "source": [
    "df_vm = df_vm.withColumn('date', F.to_date('DateStr', \"yyyyMMdd\"))"
   ]
  },
  {
   "cell_type": "code",
   "execution_count": 76,
   "id": "df328ec3-8bf9-4e20-b5f3-d7645e1abf94",
   "metadata": {},
   "outputs": [],
   "source": [
    "df_vm = df_vm \\\n",
    "    .join(df_station, df_vm.StationId == df_station.stationId) \\\n",
    "    .drop('stationId')"
   ]
  },
  {
   "cell_type": "code",
   "execution_count": 74,
   "id": "cbaacdb4-e3a7-4f46-9a14-89c1f586e1c8",
   "metadata": {},
   "outputs": [
    {
     "name": "stderr",
     "output_type": "stream",
     "text": [
      "                                                                                \r"
     ]
    },
    {
     "data": {
      "text/plain": [
       "[Row(StationId='VM000048900', DateStr='20220330', Element='TAVG', Value=289.0, M-Flag='H', Q-Flag=None, S-Flag='S', Obs-Time=None, date=datetime.date(2022, 3, 30)),\n",
       " Row(StationId='VM000048900', DateStr='20220513', Element='TAVG', Value=299.0, M-Flag='H', Q-Flag=None, S-Flag='S', Obs-Time=None, date=datetime.date(2022, 5, 13)),\n",
       " Row(StationId='VMM00048806', DateStr='20220330', Element='TMAX', Value=265.0, M-Flag=None, Q-Flag=None, S-Flag='S', Obs-Time=None, date=datetime.date(2022, 3, 30)),\n",
       " Row(StationId='VMM00048806', DateStr='20220513', Element='TMAX', Value=318.0, M-Flag=None, Q-Flag=None, S-Flag='S', Obs-Time=None, date=datetime.date(2022, 5, 13)),\n",
       " Row(StationId='VMM00048806', DateStr='20220330', Element='TMIN', Value=180.0, M-Flag=None, Q-Flag=None, S-Flag='S', Obs-Time=None, date=datetime.date(2022, 3, 30))]"
      ]
     },
     "execution_count": 74,
     "metadata": {},
     "output_type": "execute_result"
    }
   ],
   "source": [
    "df_vm.take(5)"
   ]
  },
  {
   "cell_type": "code",
   "execution_count": 77,
   "id": "57cb7802-e235-4892-8e65-f1bfee6d3cb7",
   "metadata": {},
   "outputs": [],
   "source": [
    "df_vm.createOrReplaceTempView(\"VM\")"
   ]
  },
  {
   "cell_type": "code",
   "execution_count": 78,
   "id": "9d322ad3-e25c-4765-bed8-6860103738b0",
   "metadata": {},
   "outputs": [],
   "source": [
    "countryCode = \"VM\"\n",
    "df = spark.sql(f\"\"\"\n",
    "select \n",
    "    StationId, \n",
    "    Element, \n",
    "    year(date) AS Year, \n",
    "    name as City,\n",
    "    AVG(Value)/10 as average_tmp,\n",
    "    MAX(Value)/10 as max_tmp,\n",
    "    Min(Value)/10 as min_tmp\n",
    "from \n",
    "    {countryCode}\n",
    "where \n",
    "    Element = 'TAVG'\n",
    "group by \n",
    "    1, 2, 3, 4\n",
    "\"\"\")"
   ]
  },
  {
   "cell_type": "code",
   "execution_count": 79,
   "id": "326db7c2-241e-44f7-86c4-12ee9efccb0a",
   "metadata": {},
   "outputs": [
    {
     "name": "stderr",
     "output_type": "stream",
     "text": [
      "                                                                                \r"
     ]
    },
    {
     "data": {
      "text/plain": [
       "[Row(StationId='VMM00048887', Element='TAVG', Year=2022, City='PHAN THIET', average_tmp=27.628169014084506, max_tmp=30.3, min_tmp=24.2),\n",
       " Row(StationId='VMM00048826', Element='TAVG', Year=2022, City='PHU LIEN', average_tmp=23.69774647887324, max_tmp=31.5, min_tmp=7.4),\n",
       " Row(StationId='VMM00048825', Element='TAVG', Year=2022, City='HA DONG', average_tmp=24.5087323943662, max_tmp=34.1, min_tmp=8.9),\n",
       " Row(StationId='VMM00048840', Element='TAVG', Year=2022, City='THANH HOA', average_tmp=24.434084507042254, max_tmp=33.8, min_tmp=9.0),\n",
       " Row(StationId='VMW00041010', Element='TAVG', Year=2022, City='NHA TRANG', average_tmp=27.31605633802817, max_tmp=31.2, min_tmp=23.3),\n",
       " Row(StationId='VMM00048845', Element='TAVG', Year=2022, City='VINH', average_tmp=24.8487323943662, max_tmp=34.6, min_tmp=10.1),\n",
       " Row(StationId='VM000048900', Element='TAVG', Year=2022, City='TAN SON HOA', average_tmp=28.247945205479454, max_tmp=31.7, min_tmp=24.9),\n",
       " Row(StationId='VMM00048917', Element='TAVG', Year=2022, City='PHU QUOC', average_tmp=27.38876712328767, max_tmp=30.4, min_tmp=23.2),\n",
       " Row(StationId='VMM00048820', Element='TAVG', Year=2022, City='NOIBAI INTL', average_tmp=24.284931506849315, max_tmp=34.1, min_tmp=9.1),\n",
       " Row(StationId='VMM00048914', Element='TAVG', Year=2022, City='CA MAU', average_tmp=27.93633802816901, max_tmp=30.9, min_tmp=24.3),\n",
       " Row(StationId='VMM00048848', Element='TAVG', Year=2022, City='DONG HOI', average_tmp=25.14, max_tmp=33.9, min_tmp=12.5),\n",
       " Row(StationId='VMW00041011', Element='TAVG', Year=2022, City='QUI NHON', average_tmp=27.357464788732393, max_tmp=31.8, min_tmp=20.6),\n",
       " Row(StationId='VMM00048830', Element='TAVG', Year=2022, City='LANG SON', average_tmp=21.896338028169016, max_tmp=30.4, min_tmp=5.9),\n",
       " Row(StationId='VMM00048855', Element='TAVG', Year=2022, City='DANANG INTL', average_tmp=26.445205479452056, max_tmp=32.8, min_tmp=17.2),\n",
       " Row(StationId='VMM00048806', Element='TAVG', Year=2022, City='SON LA', average_tmp=21.77887323943662, max_tmp=28.8, min_tmp=7.4),\n",
       " Row(StationId='VMM00048808', Element='TAVG', Year=2022, City='CAO BANG', average_tmp=22.2343661971831, max_tmp=32.1, min_tmp=7.7)]"
      ]
     },
     "execution_count": 79,
     "metadata": {},
     "output_type": "execute_result"
    }
   ],
   "source": [
    "df.take(100)"
   ]
  },
  {
   "cell_type": "code",
   "execution_count": 26,
   "id": "6c6d467b-da44-47b3-8b61-18efa6c81d4c",
   "metadata": {},
   "outputs": [
    {
     "name": "stderr",
     "output_type": "stream",
     "text": [
      "                                                                                \r"
     ]
    }
   ],
   "source": [
    "df_all = spark.read.parquet(\"gs://noaa_ghcn_data_lake_swift-arcadia-387709/data/pq/climate/2022/*\")"
   ]
  },
  {
   "cell_type": "code",
   "execution_count": 27,
   "id": "d01b2400-d709-4c14-bc97-2b0141814881",
   "metadata": {},
   "outputs": [],
   "source": [
    "df_all = df_all.withColumn('countryCode', F.substring(\"StationId\", 0, 2))"
   ]
  },
  {
   "cell_type": "code",
   "execution_count": 28,
   "id": "c36ff366-af1f-4a90-9a0a-46b52ab2e88b",
   "metadata": {},
   "outputs": [],
   "source": [
    "df_all.createOrReplaceTempView(\"noaa_all\")"
   ]
  },
  {
   "cell_type": "code",
   "execution_count": 31,
   "id": "1d8aa73e-3bf5-40c1-93e3-5276ccdaf3de",
   "metadata": {},
   "outputs": [],
   "source": [
    "count_data = spark.sql(\"\"\"\n",
    "select Element, countryCode, count(*) from noaa_all as num_records\n",
    "group by Element, countryCode\n",
    "order by 3 desc\n",
    "\"\"\")"
   ]
  },
  {
   "cell_type": "code",
   "execution_count": 33,
   "id": "ad261b32-3fda-4ffe-8df8-6aa1a02e09f6",
   "metadata": {},
   "outputs": [
    {
     "name": "stderr",
     "output_type": "stream",
     "text": [
      "                                                                                \r"
     ]
    },
    {
     "data": {
      "text/plain": [
       "[Row(Element='PRCP', countryCode='US', count(1)=7789214),\n",
       " Row(Element='SNOW', countryCode='US', count(1)=5199590),\n",
       " Row(Element='TMAX', countryCode='US', count(1)=2656927),\n",
       " Row(Element='TMIN', countryCode='US', count(1)=2653396),\n",
       " Row(Element='SNWD', countryCode='US', count(1)=2461821),\n",
       " Row(Element='TOBS', countryCode='US', count(1)=1616423),\n",
       " Row(Element='PRCP', countryCode='AS', count(1)=1391158),\n",
       " Row(Element='TAVG', countryCode='US', count(1)=833241),\n",
       " Row(Element='WESD', countryCode='US', count(1)=528067),\n",
       " Row(Element='PRCP', countryCode='CA', count(1)=484711),\n",
       " Row(Element='AWND', countryCode='US', count(1)=418447),\n",
       " Row(Element='WSF2', countryCode='US', count(1)=394645),\n",
       " Row(Element='WDF2', countryCode='US', count(1)=394547),\n",
       " Row(Element='WSF5', countryCode='US', count(1)=382282),\n",
       " Row(Element='WDF5', countryCode='US', count(1)=381795),\n",
       " Row(Element='TMAX', countryCode='CA', count(1)=335544),\n",
       " Row(Element='TMIN', countryCode='CA', count(1)=335122),\n",
       " Row(Element='WESF', countryCode='US', count(1)=324702),\n",
       " Row(Element='TAVG', countryCode='CA', count(1)=316696),\n",
       " Row(Element='SNOW', countryCode='CA', count(1)=228231),\n",
       " Row(Element='TMAX', countryCode='AS', count(1)=209385),\n",
       " Row(Element='TMIN', countryCode='AS', count(1)=207849),\n",
       " Row(Element='PRCP', countryCode='SW', count(1)=200793),\n",
       " Row(Element='PRCP', countryCode='GM', count(1)=198369),\n",
       " Row(Element='TAVG', countryCode='RS', count(1)=189201),\n",
       " Row(Element='SNWD', countryCode='CA', count(1)=186813),\n",
       " Row(Element='PRCP', countryCode='RS', count(1)=169105),\n",
       " Row(Element='RHMX', countryCode='US', count(1)=165168),\n",
       " Row(Element='RHMN', countryCode='US', count(1)=165168),\n",
       " Row(Element='RHAV', countryCode='US', count(1)=164996),\n",
       " Row(Element='ADPT', countryCode='US', count(1)=164387),\n",
       " Row(Element='AWBT', countryCode='US', count(1)=164387),\n",
       " Row(Element='ASTP', countryCode='US', count(1)=164298),\n",
       " Row(Element='ASLP', countryCode='US', count(1)=164298),\n",
       " Row(Element='TMIN', countryCode='GM', count(1)=164156),\n",
       " Row(Element='TMAX', countryCode='GM', count(1)=164156),\n",
       " Row(Element='TMAX', countryCode='RS', count(1)=150818),\n",
       " Row(Element='WT01', countryCode='US', count(1)=147532),\n",
       " Row(Element='WSFG', countryCode='CA', count(1)=140638),\n",
       " Row(Element='SNWD', countryCode='GM', count(1)=140260),\n",
       " Row(Element='WDFG', countryCode='CA', count(1)=139452),\n",
       " Row(Element='SNWD', countryCode='SW', count(1)=135031),\n",
       " Row(Element='PRCP', countryCode='NL', count(1)=124788),\n",
       " Row(Element='TMIN', countryCode='RS', count(1)=124325),\n",
       " Row(Element='SNWD', countryCode='NL', count(1)=112786),\n",
       " Row(Element='DAPR', countryCode='US', count(1)=99109),\n",
       " Row(Element='MDPR', countryCode='US', count(1)=98043),\n",
       " Row(Element='PGTM', countryCode='US', count(1)=90274),\n",
       " Row(Element='PRCP', countryCode='NO', count(1)=86909),\n",
       " Row(Element='SNWD', countryCode='RS', count(1)=86507),\n",
       " Row(Element='TMAX', countryCode='SW', count(1)=82285),\n",
       " Row(Element='TMIN', countryCode='SW', count(1)=82167),\n",
       " Row(Element='TAVG', countryCode='CH', count(1)=76540),\n",
       " Row(Element='PRCP', countryCode='CH', count(1)=74534),\n",
       " Row(Element='TMAX', countryCode='CH', count(1)=72242),\n",
       " Row(Element='TMIN', countryCode='CH', count(1)=71798),\n",
       " Row(Element='SNWD', countryCode='NO', count(1)=66333),\n",
       " Row(Element='PRCP', countryCode='SP', count(1)=64454),\n",
       " Row(Element='PRCP', countryCode='FI', count(1)=63368),\n",
       " Row(Element='TMAX', countryCode='FI', count(1)=63284),\n",
       " Row(Element='TMIN', countryCode='FI', count(1)=63071),\n",
       " Row(Element='TMAX', countryCode='SP', count(1)=62577),\n",
       " Row(Element='TMIN', countryCode='SP', count(1)=62294),\n",
       " Row(Element='WT03', countryCode='US', count(1)=59551),\n",
       " Row(Element='TAVG', countryCode='JA', count(1)=54174),\n",
       " Row(Element='TAVG', countryCode='IN', count(1)=48828),\n",
       " Row(Element='SN32', countryCode='US', count(1)=47468),\n",
       " Row(Element='SX32', countryCode='US', count(1)=47181),\n",
       " Row(Element='PRCP', countryCode='JA', count(1)=46735),\n",
       " Row(Element='TMIN', countryCode='NO', count(1)=45241),\n",
       " Row(Element='TMAX', countryCode='NO', count(1)=45236),\n",
       " Row(Element='WT08', countryCode='US', count(1)=44052),\n",
       " Row(Element='EVAP', countryCode='US', count(1)=42834),\n",
       " Row(Element='TMIN', countryCode='IN', count(1)=41974),\n",
       " Row(Element='TMAX', countryCode='JA', count(1)=37838),\n",
       " Row(Element='TAVG', countryCode='KZ', count(1)=36995),\n",
       " Row(Element='TAVG', countryCode='ID', count(1)=36639),\n",
       " Row(Element='TMAX', countryCode='IN', count(1)=34725),\n",
       " Row(Element='WDMV', countryCode='US', count(1)=33968),\n",
       " Row(Element='TMAX', countryCode='KZ', count(1)=33721),\n",
       " Row(Element='TMAX', countryCode='ID', count(1)=33450),\n",
       " Row(Element='PRCP', countryCode='UK', count(1)=32054),\n",
       " Row(Element='TMAX', countryCode='UK', count(1)=31647),\n",
       " Row(Element='WESF', countryCode='CA', count(1)=31422),\n",
       " Row(Element='TMIN', countryCode='UK', count(1)=30920),\n",
       " Row(Element='TAVG', countryCode='AS', count(1)=30913),\n",
       " Row(Element='TMIN', countryCode='JA', count(1)=28354),\n",
       " Row(Element='TAVG', countryCode='SP', count(1)=28327),\n",
       " Row(Element='TAVG', countryCode='AR', count(1)=27478),\n",
       " Row(Element='TAVG', countryCode='FR', count(1)=26190),\n",
       " Row(Element='TMIN', countryCode='ID', count(1)=25969),\n",
       " Row(Element='PRCP', countryCode='FR', count(1)=25763),\n",
       " Row(Element='TMIN', countryCode='KZ', count(1)=24093),\n",
       " Row(Element='TMIN', countryCode='AR', count(1)=23957),\n",
       " Row(Element='MNPN', countryCode='US', count(1)=22053),\n",
       " Row(Element='MXPN', countryCode='US', count(1)=21931),\n",
       " Row(Element='TMAX', countryCode='FR', count(1)=20816),\n",
       " Row(Element='WT02', countryCode='US', count(1)=20442),\n",
       " Row(Element='TAVG', countryCode='MX', count(1)=20415),\n",
       " Row(Element='PRCP', countryCode='RQ', count(1)=20130)]"
      ]
     },
     "execution_count": 33,
     "metadata": {},
     "output_type": "execute_result"
    }
   ],
   "source": [
    "count_data.take(100)"
   ]
  },
  {
   "cell_type": "code",
   "execution_count": null,
   "id": "95a55ee6-e228-4753-8590-310c8356af9f",
   "metadata": {},
   "outputs": [],
   "source": []
  }
 ],
 "metadata": {
  "kernelspec": {
   "display_name": "Python 3 (ipykernel)",
   "language": "python",
   "name": "python3"
  },
  "language_info": {
   "codemirror_mode": {
    "name": "ipython",
    "version": 3
   },
   "file_extension": ".py",
   "mimetype": "text/x-python",
   "name": "python",
   "nbconvert_exporter": "python",
   "pygments_lexer": "ipython3",
   "version": "3.11.4"
  }
 },
 "nbformat": 4,
 "nbformat_minor": 5
}
