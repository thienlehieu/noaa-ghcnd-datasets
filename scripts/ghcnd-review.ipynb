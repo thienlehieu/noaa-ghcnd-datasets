{
 "cells": [
  {
   "cell_type": "code",
   "execution_count": 1,
   "id": "5922600c-1bcb-4426-85e0-e74bcdd50f03",
   "metadata": {},
   "outputs": [],
   "source": [
    "import pyspark\n",
    "from pyspark.sql import SparkSession\n",
    "import pandas as pd\n",
    "from pyspark.sql import types"
   ]
  },
  {
   "cell_type": "code",
   "execution_count": 2,
   "id": "3f054c97-b1d6-4446-91ec-43c3c7c2cea7",
   "metadata": {},
   "outputs": [
    {
     "name": "stderr",
     "output_type": "stream",
     "text": [
      "Setting default log level to \"WARN\".\n",
      "To adjust logging level use sc.setLogLevel(newLevel). For SparkR, use setLogLevel(newLevel).\n",
      "23/08/15 14:45:05 WARN NativeCodeLoader: Unable to load native-hadoop library for your platform... using builtin-java classes where applicable\n"
     ]
    }
   ],
   "source": [
    "spark = SparkSession.builder \\\n",
    "    .master(\"local[*]\") \\\n",
    "    .appName('Monkey D.Luffy') \\\n",
    "    .getOrCreate()"
   ]
  },
  {
   "cell_type": "code",
   "execution_count": 17,
   "id": "ba12f3f7-d792-4c83-bbda-2313bb8732cc",
   "metadata": {},
   "outputs": [
    {
     "name": "stdout",
     "output_type": "stream",
     "text": [
      "--2023-08-14 16:40:14--  https://noaa-ghcn-pds.s3.amazonaws.com/csv.gz/by_year/2023.csv.gz\n",
      "Resolving noaa-ghcn-pds.s3.amazonaws.com (noaa-ghcn-pds.s3.amazonaws.com)... 52.216.220.113, 54.231.170.73, 52.217.225.97, ...\n",
      "Connecting to noaa-ghcn-pds.s3.amazonaws.com (noaa-ghcn-pds.s3.amazonaws.com)|52.216.220.113|:443... connected.\n",
      "HTTP request sent, awaiting response... 200 OK\n",
      "Length: 96782061 (92M) [application/octet-stream]\n",
      "Saving to: ‘2023.csv.gz’\n",
      "\n",
      "2023.csv.gz         100%[===================>]  92.30M  2.71MB/s    in 29s     \n",
      "\n",
      "2023-08-14 16:40:45 (3.20 MB/s) - ‘2023.csv.gz’ saved [96782061/96782061]\n",
      "\n"
     ]
    }
   ],
   "source": [
    "!wget \"https://noaa-ghcn-pds.s3.amazonaws.com/csv.gz/by_year/2023.csv.gz\""
   ]
  },
  {
   "cell_type": "code",
   "execution_count": 8,
   "id": "0f25fb76-ce57-4277-8f8d-9b8d367529d7",
   "metadata": {},
   "outputs": [],
   "source": [
    "import time\n",
    "from pyspark.sql import functions as F"
   ]
  },
  {
   "cell_type": "code",
   "execution_count": 14,
   "id": "2ff84149-39ed-412e-8fe7-531acb9c2677",
   "metadata": {},
   "outputs": [
    {
     "name": "stdout",
     "output_type": "stream",
     "text": [
      "--- 36.61327886581421 seconds ---\n"
     ]
    }
   ],
   "source": [
    "start_time = time.time()\n",
    "df = pd.read_csv('2022.csv.gz')\n",
    "print(\"--- %s seconds ---\" % (time.time() - start_time))"
   ]
  },
  {
   "cell_type": "code",
   "execution_count": 19,
   "id": "51878a92-aec6-4ea0-bf22-ced64f6e1da7",
   "metadata": {},
   "outputs": [
    {
     "data": {
      "text/html": [
       "<div>\n",
       "<style scoped>\n",
       "    .dataframe tbody tr th:only-of-type {\n",
       "        vertical-align: middle;\n",
       "    }\n",
       "\n",
       "    .dataframe tbody tr th {\n",
       "        vertical-align: top;\n",
       "    }\n",
       "\n",
       "    .dataframe thead th {\n",
       "        text-align: right;\n",
       "    }\n",
       "</style>\n",
       "<table border=\"1\" class=\"dataframe\">\n",
       "  <thead>\n",
       "    <tr style=\"text-align: right;\">\n",
       "      <th></th>\n",
       "      <th>AE000041196</th>\n",
       "      <th>20220101</th>\n",
       "      <th>TAVG</th>\n",
       "      <th>204</th>\n",
       "      <th>H</th>\n",
       "      <th>Unnamed: 5</th>\n",
       "      <th>S</th>\n",
       "      <th>Unnamed: 7</th>\n",
       "    </tr>\n",
       "  </thead>\n",
       "  <tbody>\n",
       "    <tr>\n",
       "      <th>37787619</th>\n",
       "      <td>WF000917530</td>\n",
       "      <td>20221231</td>\n",
       "      <td>TAVG</td>\n",
       "      <td>283</td>\n",
       "      <td>H</td>\n",
       "      <td>NaN</td>\n",
       "      <td>S</td>\n",
       "      <td>NaN</td>\n",
       "    </tr>\n",
       "    <tr>\n",
       "      <th>37787620</th>\n",
       "      <td>WQW00041606</td>\n",
       "      <td>20221231</td>\n",
       "      <td>TAVG</td>\n",
       "      <td>278</td>\n",
       "      <td>H</td>\n",
       "      <td>NaN</td>\n",
       "      <td>S</td>\n",
       "      <td>NaN</td>\n",
       "    </tr>\n",
       "    <tr>\n",
       "      <th>37787621</th>\n",
       "      <td>WZ004455110</td>\n",
       "      <td>20221231</td>\n",
       "      <td>TAVG</td>\n",
       "      <td>203</td>\n",
       "      <td>H</td>\n",
       "      <td>NaN</td>\n",
       "      <td>S</td>\n",
       "      <td>NaN</td>\n",
       "    </tr>\n",
       "    <tr>\n",
       "      <th>37787622</th>\n",
       "      <td>ZI000067775</td>\n",
       "      <td>20221231</td>\n",
       "      <td>TAVG</td>\n",
       "      <td>206</td>\n",
       "      <td>H</td>\n",
       "      <td>NaN</td>\n",
       "      <td>S</td>\n",
       "      <td>NaN</td>\n",
       "    </tr>\n",
       "    <tr>\n",
       "      <th>37787623</th>\n",
       "      <td>ZI000067975</td>\n",
       "      <td>20221231</td>\n",
       "      <td>TAVG</td>\n",
       "      <td>202</td>\n",
       "      <td>H</td>\n",
       "      <td>NaN</td>\n",
       "      <td>S</td>\n",
       "      <td>NaN</td>\n",
       "    </tr>\n",
       "  </tbody>\n",
       "</table>\n",
       "</div>"
      ],
      "text/plain": [
       "          AE000041196  20220101  TAVG  204  H Unnamed: 5  S  Unnamed: 7\n",
       "37787619  WF000917530  20221231  TAVG  283  H        NaN  S         NaN\n",
       "37787620  WQW00041606  20221231  TAVG  278  H        NaN  S         NaN\n",
       "37787621  WZ004455110  20221231  TAVG  203  H        NaN  S         NaN\n",
       "37787622  ZI000067775  20221231  TAVG  206  H        NaN  S         NaN\n",
       "37787623  ZI000067975  20221231  TAVG  202  H        NaN  S         NaN"
      ]
     },
     "execution_count": 19,
     "metadata": {},
     "output_type": "execute_result"
    }
   ],
   "source": [
    "df.tail()"
   ]
  },
  {
   "cell_type": "code",
   "execution_count": 20,
   "id": "419b55bf-d7b3-4fe6-a8ec-7bb44c5c3de8",
   "metadata": {},
   "outputs": [
    {
     "name": "stdout",
     "output_type": "stream",
     "text": [
      "--- 0.3223757743835449 seconds ---\n"
     ]
    }
   ],
   "source": [
    "start_time = time.time()\n",
    "df_spark = spark.read.csv('2023.csv.gz')\n",
    "print(\"--- %s seconds ---\" % (time.time() - start_time))"
   ]
  },
  {
   "cell_type": "code",
   "execution_count": 3,
   "id": "c8f502ef-c28e-458a-881b-2da7898100d5",
   "metadata": {},
   "outputs": [
    {
     "ename": "NameError",
     "evalue": "name 'df_spark' is not defined",
     "output_type": "error",
     "traceback": [
      "\u001b[0;31m---------------------------------------------------------------------------\u001b[0m",
      "\u001b[0;31mNameError\u001b[0m                                 Traceback (most recent call last)",
      "Cell \u001b[0;32mIn[3], line 1\u001b[0m\n\u001b[0;32m----> 1\u001b[0m \u001b[43mdf_spark\u001b[49m\u001b[38;5;241m.\u001b[39mhead()\n",
      "\u001b[0;31mNameError\u001b[0m: name 'df_spark' is not defined"
     ]
    }
   ],
   "source": [
    "df_spark.head()"
   ]
  },
  {
   "cell_type": "code",
   "execution_count": 4,
   "id": "b5b1f107-723a-4b19-b4f3-6f2679c01104",
   "metadata": {},
   "outputs": [],
   "source": [
    "schema = types.StructType([\n",
    "    types.StructField(\"StationId\", types.StringType(), True),\n",
    "    types.StructField(\"DateStr\", types.StringType(), True),\n",
    "    types.StructField(\"Element\", types.StringType(), True),\n",
    "    types.StructField(\"Value\", types.DoubleType(), True),\n",
    "    types.StructField(\"M-Flag\", types.StringType(), True),\n",
    "    types.StructField(\"Q-Flag\", types.StringType(), True),\n",
    "    types.StructField(\"S-Flag\", types.StringType(), True),\n",
    "    types.StructField(\"Obs-Time\", types.StringType(), True)\n",
    "])"
   ]
  },
  {
   "cell_type": "code",
   "execution_count": 5,
   "id": "d9bc0fb4-1e97-451a-98c3-5bbd33bdb0a0",
   "metadata": {},
   "outputs": [],
   "source": [
    "df_2023 = spark.read \\\n",
    "    .option(\"header\", \"true\") \\\n",
    "    .schema(schema) \\\n",
    "    .csv('2023.csv.gz')"
   ]
  },
  {
   "cell_type": "code",
   "execution_count": 12,
   "id": "3d02c614-89c3-425c-adf3-fa081dbfa1b7",
   "metadata": {},
   "outputs": [
    {
     "ename": "NameError",
     "evalue": "name 'substring' is not defined",
     "output_type": "error",
     "traceback": [
      "\u001b[0;31m---------------------------------------------------------------------------\u001b[0m",
      "\u001b[0;31mNameError\u001b[0m                                 Traceback (most recent call last)",
      "Cell \u001b[0;32mIn[12], line 1\u001b[0m\n\u001b[0;32m----> 1\u001b[0m df_2023 \u001b[38;5;241m=\u001b[39m df_2023\u001b[38;5;241m.\u001b[39mwithColumn(\u001b[38;5;124m'\u001b[39m\u001b[38;5;124mcountryCode\u001b[39m\u001b[38;5;124m'\u001b[39m, \u001b[43msubstring\u001b[49m(\u001b[38;5;124m'\u001b[39m\u001b[38;5;124mStationId\u001b[39m\u001b[38;5;124m'\u001b[39m, \u001b[38;5;241m0\u001b[39m, \u001b[38;5;241m2\u001b[39m))\n\u001b[1;32m      2\u001b[0m df_2023\u001b[38;5;241m.\u001b[39mtake(\u001b[38;5;241m5\u001b[39m)\n",
      "\u001b[0;31mNameError\u001b[0m: name 'substring' is not defined"
     ]
    }
   ],
   "source": [
    "df_2023 = df_2023.withColumn('countryCode', F.substring('StationId', 0, 2))\n",
    "df_2023.take(5)"
   ]
  },
  {
   "cell_type": "code",
   "execution_count": 27,
   "id": "7868318c-4e8c-46b1-9db6-105f8a52b981",
   "metadata": {},
   "outputs": [
    {
     "name": "stderr",
     "output_type": "stream",
     "text": [
      "23/08/14 18:12:44 WARN CSVHeaderChecker: CSV header does not conform to the schema.\n",
      " Header: AE000041196, 20230101, TMAX, 252, , , S, \n",
      " Schema: StationId, DateStr, Element, Value, M-Flag, Q-Flag, S-Flag, Obs-Time\n",
      "Expected: StationId but found: AE000041196\n",
      "CSV file: file:///Users/admin/Public/project/football-datasets/scripts/2023.csv.gz\n",
      "                                                                                \r"
     ]
    }
   ],
   "source": [
    "output_path = '../data/pq/2023'\n",
    "df_2023 \\\n",
    "    .write.parquet(output_path, mode='overwrite')"
   ]
  },
  {
   "cell_type": "code",
   "execution_count": 28,
   "id": "9d908f82-d2f1-4aa4-aefe-892b98260b0d",
   "metadata": {},
   "outputs": [],
   "source": [
    "year = 2023\n",
    "color = 'yellow'\n",
    "month = 1\n",
    "input_path = f'../data/pq/{year}/part-00000-9ef2930c-6d4f-4430-837b-73b988ff4dcd-c000.snappy.parquet'\n",
    "dff = spark.read.parquet(input_path)"
   ]
  },
  {
   "cell_type": "code",
   "execution_count": 29,
   "id": "014f435b-94c2-41dc-94f4-204a617a66ab",
   "metadata": {},
   "outputs": [
    {
     "data": {
      "text/plain": [
       "[Row(StationId='AE000041196', DateStr='20230101', Element='TMIN', Value=149.0, M-Flag=None, Q-Flag=None, S-Flag='S', Obs-Time=None),\n",
       " Row(StationId='AE000041196', DateStr='20230101', Element='PRCP', Value=0.0, M-Flag='D', Q-Flag=None, S-Flag='S', Obs-Time=None),\n",
       " Row(StationId='AE000041196', DateStr='20230101', Element='TAVG', Value=207.0, M-Flag='H', Q-Flag=None, S-Flag='S', Obs-Time=None),\n",
       " Row(StationId='AEM00041194', DateStr='20230101', Element='TMAX', Value=255.0, M-Flag=None, Q-Flag=None, S-Flag='S', Obs-Time=None),\n",
       " Row(StationId='AEM00041194', DateStr='20230101', Element='TMIN', Value=186.0, M-Flag=None, Q-Flag=None, S-Flag='S', Obs-Time=None)]"
      ]
     },
     "execution_count": 29,
     "metadata": {},
     "output_type": "execute_result"
    }
   ],
   "source": [
    "dff.take(5)"
   ]
  },
  {
   "cell_type": "code",
   "execution_count": null,
   "id": "d03ed571-dd68-4b5c-8192-29d81b5c8e6c",
   "metadata": {},
   "outputs": [],
   "source": [
    "df_2023.write.format()"
   ]
  }
 ],
 "metadata": {
  "kernelspec": {
   "display_name": "Python 3 (ipykernel)",
   "language": "python",
   "name": "python3"
  },
  "language_info": {
   "codemirror_mode": {
    "name": "ipython",
    "version": 3
   },
   "file_extension": ".py",
   "mimetype": "text/x-python",
   "name": "python",
   "nbconvert_exporter": "python",
   "pygments_lexer": "ipython3",
   "version": "3.11.4"
  }
 },
 "nbformat": 4,
 "nbformat_minor": 5
}
